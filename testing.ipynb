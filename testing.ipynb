{
 "cells": [
  {
   "cell_type": "code",
   "execution_count": null,
   "metadata": {},
   "outputs": [],
   "source": [
    "class Piece():\n",
    "    def __init__(self, pos, color):\n",
    "        self.pos = pos\n",
    "        self.color = color\n",
    "\n",
    "class Rook(Piece):\n",
    "    def __init__(self, pos, color):\n",
    "        super().__init__(self, pos, color)\n",
    "    \n",
    "    def move():\n",
    "        horizontal = True\n",
    "        vertical = True\n",
    "        diagonal = True\n",
    "        single_space_move = False\n",
    "    \n",
    "class Bishop(Piece):\n",
    "    def __init__(self, pos, color):\n",
    "        super().__init__(self, pos, color)\n",
    "\n",
    "    def move():\n",
    "        horizontal = True\n",
    "        vertical = False\n",
    "        diagonal = False\n",
    "        single_space_move = False\n",
    "\n",
    "class Queen(Piece):\n",
    "    def __init__(self, pos, color):\n",
    "        super().__init__(self, pos, color)\n",
    "\n",
    "    def move():\n",
    "        horizontal = True\n",
    "        vertical = True\n",
    "        diagonal = True\n",
    "        single_space_move = False\n",
    "\n",
    "class Pawn(Piece):\n",
    "    def __init__(self, pos, color):\n",
    "        super().__init__(pos, color)\n",
    "\n",
    "    def move():\n",
    "        ## CAN ONLY MOVE ONE SPACE\n",
    "        horizontal = False\n",
    "        vertical = True\n",
    "        diagonal = False\n",
    "        single_space_move = True\n",
    "\n",
    "class Knight(Piece):\n",
    "    def __init__(self, pos, color):\n",
    "        super().__init__(self, pos, color)\n",
    "\n",
    "    def move():\n",
    "        horizontal = False\n",
    "        vertical = False\n",
    "        diagonal = False\n",
    "        single_space_move = False\n"
   ]
  },
  {
   "cell_type": "code",
   "execution_count": null,
   "metadata": {},
   "outputs": [],
   "source": [
    "class Board():\n",
    "    def __init__(self):\n",
    "        self.board = [[None]*8]*8\n",
    "        for i in range(8):\n",
    "            self.board[1] = Pawn(self.board[1][i], 'black')\n",
    "\n",
    "    def possible_moves():\n",
    "        pass\n",
    "\n",
    "    # def is_checkmate():\n",
    "    #     return self.possible_moves is None\n",
    "            "
   ]
  },
  {
   "cell_type": "code",
   "execution_count": null,
   "metadata": {},
   "outputs": [],
   "source": [
    "class Space():\n",
    "    def __init__(self, name, dark):\n",
    "        self.name = name\n",
    "        self.dark = dark\n"
   ]
  },
  {
   "cell_type": "code",
   "execution_count": null,
   "metadata": {},
   "outputs": [],
   "source": [
    "files = ['a','b','c','d','e','c','g','h'] \n",
    "rows = [i for i in range(1,9)]\n",
    "\n",
    "names = [file+str(row) for row in rows for file in files]\n",
    "\n"
   ]
  },
  {
   "cell_type": "code",
   "execution_count": null,
   "metadata": {},
   "outputs": [],
   "source": [
    "square_color = []\n",
    "initial = 'dark'\n",
    "## every 8 flip the color you start with\n",
    "for i in range(1,65):\n",
    "    \n",
    "for i in range(1,9):\n",
    "   sqaure_color = "
   ]
  },
  {
   "cell_type": "code",
   "execution_count": null,
   "metadata": {},
   "outputs": [],
   "source": [
    "board = [[None]*8]*8\n",
    "board[0] = 'pawn'"
   ]
  },
  {
   "cell_type": "code",
   "execution_count": null,
   "metadata": {},
   "outputs": [],
   "source": []
  },
  {
   "cell_type": "code",
   "execution_count": null,
   "metadata": {},
   "outputs": [],
   "source": []
  }
 ],
 "metadata": {
  "kernelspec": {
   "display_name": "Python 3.10.4 64-bit",
   "language": "python",
   "name": "python3"
  },
  "language_info": {
   "codemirror_mode": {
    "name": "ipython",
    "version": 3
   },
   "file_extension": ".py",
   "mimetype": "text/x-python",
   "name": "python",
   "nbconvert_exporter": "python",
   "pygments_lexer": "ipython3",
   "version": "3.10.4"
  },
  "orig_nbformat": 4,
  "vscode": {
   "interpreter": {
    "hash": "26de051ba29f2982a8de78e945f0abaf191376122a1563185a90213a26c5da77"
   }
  }
 },
 "nbformat": 4,
 "nbformat_minor": 2
}
